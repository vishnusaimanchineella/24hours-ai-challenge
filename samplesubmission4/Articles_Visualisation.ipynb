{
 "cells": [
  {
   "cell_type": "markdown",
   "id": "bf622e21",
   "metadata": {},
   "source": [
    "## Visualisation of training and testing data for Fake News Detection"
   ]
  },
  {
   "cell_type": "markdown",
   "id": "62bf4fe0",
   "metadata": {},
   "source": [
    "#### Import libraries for visualisation"
   ]
  },
  {
   "cell_type": "code",
   "execution_count": 3,
   "id": "5b297210",
   "metadata": {},
   "outputs": [],
   "source": [
    "import pandas as pd\n",
    "import numpy as np\n",
    "import matplotlib.pyplot as plt\n",
    "import seaborn as sns"
   ]
  },
  {
   "cell_type": "markdown",
   "id": "43a6efdc",
   "metadata": {},
   "source": [
    "#### Load dataset into dataframe"
   ]
  },
  {
   "cell_type": "code",
   "execution_count": 4,
   "id": "83692fbe",
   "metadata": {},
   "outputs": [
    {
     "data": {
      "text/html": [
       "<div>\n",
       "<style scoped>\n",
       "    .dataframe tbody tr th:only-of-type {\n",
       "        vertical-align: middle;\n",
       "    }\n",
       "\n",
       "    .dataframe tbody tr th {\n",
       "        vertical-align: top;\n",
       "    }\n",
       "\n",
       "    .dataframe thead th {\n",
       "        text-align: right;\n",
       "    }\n",
       "</style>\n",
       "<table border=\"1\" class=\"dataframe\">\n",
       "  <thead>\n",
       "    <tr style=\"text-align: right;\">\n",
       "      <th></th>\n",
       "      <th>news_text</th>\n",
       "      <th>label</th>\n",
       "    </tr>\n",
       "  </thead>\n",
       "  <tbody>\n",
       "    <tr>\n",
       "      <th>0</th>\n",
       "      <td>The tax-exempt Muslim group CAIR has ties to t...</td>\n",
       "      <td>fake</td>\n",
       "    </tr>\n",
       "    <tr>\n",
       "      <th>1</th>\n",
       "      <td>This cartoon is one of our all-time favorites....</td>\n",
       "      <td>fake</td>\n",
       "    </tr>\n",
       "    <tr>\n",
       "      <th>2</th>\n",
       "      <td>This Utah protest was planned and organized by...</td>\n",
       "      <td>fake</td>\n",
       "    </tr>\n",
       "    <tr>\n",
       "      <th>3</th>\n",
       "      <td>Shades of Baltimore? How can citizens or visit...</td>\n",
       "      <td>fake</td>\n",
       "    </tr>\n",
       "    <tr>\n",
       "      <th>4</th>\n",
       "      <td>This video should be viewed by every middle sc...</td>\n",
       "      <td>fake</td>\n",
       "    </tr>\n",
       "  </tbody>\n",
       "</table>\n",
       "</div>"
      ],
      "text/plain": [
       "                                           news_text label\n",
       "0  The tax-exempt Muslim group CAIR has ties to t...  fake\n",
       "1  This cartoon is one of our all-time favorites....  fake\n",
       "2  This Utah protest was planned and organized by...  fake\n",
       "3  Shades of Baltimore? How can citizens or visit...  fake\n",
       "4  This video should be viewed by every middle sc...  fake"
      ]
     },
     "execution_count": 4,
     "metadata": {},
     "output_type": "execute_result"
    }
   ],
   "source": [
    "df_train = pd.read_csv(r\"fake_news_train.csv\")\n",
    "df_train.head()"
   ]
  },
  {
   "cell_type": "markdown",
   "id": "6eeac0dd",
   "metadata": {},
   "source": [
    "#### Visualise distribution of labels in pie-chart"
   ]
  },
  {
   "cell_type": "code",
   "execution_count": 5,
   "id": "2891537e",
   "metadata": {},
   "outputs": [
    {
     "data": {
      "text/plain": [
       "fake    2652\n",
       "real    2032\n",
       "Name: label, dtype: int64"
      ]
     },
     "execution_count": 5,
     "metadata": {},
     "output_type": "execute_result"
    }
   ],
   "source": [
    "df_train.label.value_counts()"
   ]
  },
  {
   "cell_type": "code",
   "execution_count": 6,
   "id": "5f0c2d6d",
   "metadata": {},
   "outputs": [],
   "source": [
    "labels = df_train.label.value_counts().index"
   ]
  },
  {
   "cell_type": "code",
   "execution_count": 7,
   "id": "03e744d2",
   "metadata": {},
   "outputs": [],
   "source": [
    "count = df_train.label.value_counts().values"
   ]
  },
  {
   "cell_type": "code",
   "execution_count": 8,
   "id": "43bcfdf2",
   "metadata": {},
   "outputs": [
    {
     "data": {
      "image/png": "[encoded data removed]",
      "text/plain": [
       "<Figure size 432x288 with 1 Axes>"
      ]
     },
     "metadata": {},
     "output_type": "display_data"
    }
   ],
   "source": [
    "# Seaborn color palette to plot pie chart\n",
    "colors = sns.color_palette('pastel')\n",
    "\n",
    "# create pie chart using matplotlib\n",
    "plt.pie(count, labels=labels, colors=colors, autopct='%.0f%%', shadow=True, rotatelabels='true')\n",
    "plt.show()"
   ]
  },
  {
   "cell_type": "markdown",
   "id": "4ccca3c5",
   "metadata": {},
   "source": [
    "#### Load predicted set into dataframe"
   ]
  },
  {
   "cell_type": "code",
   "execution_count": 11,
   "id": "10ce01de",
   "metadata": {},
   "outputs": [
    {
     "data": {
      "text/html": [
       "<div>\n",
       "<style scoped>\n",
       "    .dataframe tbody tr th:only-of-type {\n",
       "        vertical-align: middle;\n",
       "    }\n",
       "\n",
       "    .dataframe tbody tr th {\n",
       "        vertical-align: top;\n",
       "    }\n",
       "\n",
       "    .dataframe thead th {\n",
       "        text-align: right;\n",
       "    }\n",
       "</style>\n",
       "<table border=\"1\" class=\"dataframe\">\n",
       "  <thead>\n",
       "    <tr style=\"text-align: right;\">\n",
       "      <th></th>\n",
       "      <th>news_text</th>\n",
       "      <th>label</th>\n",
       "      <th>probability</th>\n",
       "    </tr>\n",
       "  </thead>\n",
       "  <tbody>\n",
       "    <tr>\n",
       "      <th>0</th>\n",
       "      <td>unicorn in the city</td>\n",
       "      <td>fake</td>\n",
       "      <td>1.00</td>\n",
       "    </tr>\n",
       "    <tr>\n",
       "      <th>1</th>\n",
       "      <td>Twitter has not taken any legal action against...</td>\n",
       "      <td>fake</td>\n",
       "      <td>0.98</td>\n",
       "    </tr>\n",
       "    <tr>\n",
       "      <th>2</th>\n",
       "      <td>It appears that the index has embarked on a su...</td>\n",
       "      <td>fake</td>\n",
       "      <td>0.99</td>\n",
       "    </tr>\n",
       "    <tr>\n",
       "      <th>3</th>\n",
       "      <td>Get the latest from TODAY Sign up for our news...</td>\n",
       "      <td>fake</td>\n",
       "      <td>1.00</td>\n",
       "    </tr>\n",
       "    <tr>\n",
       "      <th>4</th>\n",
       "      <td>2d  Conan On The Funeral Trump Will Be Invited...</td>\n",
       "      <td>fake</td>\n",
       "      <td>0.95</td>\n",
       "    </tr>\n",
       "    <tr>\n",
       "      <th>5</th>\n",
       "      <td>It’s safe to say that Instagram Stories has fa...</td>\n",
       "      <td>fake</td>\n",
       "      <td>1.00</td>\n",
       "    </tr>\n",
       "    <tr>\n",
       "      <th>6</th>\n",
       "      <td>Much like a certain Amazon goddess with a lass...</td>\n",
       "      <td>fake</td>\n",
       "      <td>1.00</td>\n",
       "    </tr>\n",
       "  </tbody>\n",
       "</table>\n",
       "</div>"
      ],
      "text/plain": [
       "                                           news_text label  probability\n",
       "0                                unicorn in the city  fake         1.00\n",
       "1  Twitter has not taken any legal action against...  fake         0.98\n",
       "2  It appears that the index has embarked on a su...  fake         0.99\n",
       "3  Get the latest from TODAY Sign up for our news...  fake         1.00\n",
       "4  2d  Conan On The Funeral Trump Will Be Invited...  fake         0.95\n",
       "5  It’s safe to say that Instagram Stories has fa...  fake         1.00\n",
       "6  Much like a certain Amazon goddess with a lass...  fake         1.00"
      ]
     },
     "execution_count": 11,
     "metadata": {},
     "output_type": "execute_result"
    }
   ],
   "source": [
    "df_test = pd.read_csv(r\"fake_news_test_output.csv\")\n",
    "df_test"
   ]
  },
  {
   "cell_type": "markdown",
   "id": "1f96d50d",
   "metadata": {},
   "source": [
    "#### Visualise predicted data"
   ]
  },
  {
   "cell_type": "markdown",
   "id": "987f55f3",
   "metadata": {},
   "source": [
    "We use distribution plot to know how the probabilities of labels are distributed in both the histogram and the density view"
   ]
  },
  {
   "cell_type": "code",
   "execution_count": 10,
   "id": "fdf2c402",
   "metadata": {},
   "outputs": [
    {
     "name": "stderr",
     "output_type": "stream",
     "text": [
      "C:\\Users\\Vishnu Sai\\AppData\\Local\\Programs\\Python\\Python310\\lib\\site-packages\\seaborn\\distributions.py:2619: FutureWarning: `distplot` is a deprecated function and will be removed in a future version. Please adapt your code to use either `displot` (a figure-level function with similar flexibility) or `histplot` (an axes-level function for histograms).\n",
      "  warnings.warn(msg, FutureWarning)\n"
     ]
    },
    {
     "data": {
      "text/plain": [
       "<AxesSubplot:xlabel='probability', ylabel='Density'>"
      ]
     },
     "execution_count": 10,
     "metadata": {},
     "output_type": "execute_result"
    },
    {
     "data": {
      "image/png": "[encoded data removed]",
      "text/plain": [
       "<Figure size 432x288 with 1 Axes>"
      ]
     },
     "metadata": {
      "needs_background": "light"
     },
     "output_type": "display_data"
    }
   ],
   "source": [
    "sns.distplot(df_test.probability)"
   ]
  },
  {
   "cell_type": "code",
   "execution_count": null,
   "id": "89d77877",
   "metadata": {},
   "outputs": [],
   "source": []
  },
  {
   "cell_type": "code",
   "execution_count": null,
   "id": "2efa7ca6",
   "metadata": {},
   "outputs": [],
   "source": []
  },
  {
   "cell_type": "code",
   "execution_count": null,
   "id": "42992bf0",
   "metadata": {},
   "outputs": [],
   "source": []
  }
 ],
 "metadata": {
  "kernelspec": {
   "display_name": "Python 3 (ipykernel)",
   "language": "python",
   "name": "python3"
  },
  "language_info": {
   "codemirror_mode": {
    "name": "ipython",
    "version": 3
   },
   "file_extension": ".py",
   "mimetype": "text/x-python",
   "name": "python",
   "nbconvert_exporter": "python",
   "pygments_lexer": "ipython3",
   "version": "3.10.4"
  }
 },
 "nbformat": 4,
 "nbformat_minor": 5
}
