{
 "cells": [
  {
   "cell_type": "markdown",
   "metadata": {},
   "source": [
    "# FakeNewsDetection"
   ]
  },
  {
   "cell_type": "markdown",
   "metadata": {},
   "source": [
    "In this notebook, we will be solving a use case of 'Fake News Detection' - Predict if a news published in an article is 'Real' or 'Fake' for a sample data using ML Algorithms!"
   ]
  },
  {
   "cell_type": "markdown",
   "metadata": {},
   "source": [
    "**Note**: Update variables under **Variables** section if required before running the notebook. To run notebook cell by cell, click on a cell and click **Run** button below the Menu bar. Or to run all cells, select **Cell --> Run** All from Menu bar."
   ]
  },
  {
   "cell_type": "markdown",
   "metadata": {},
   "source": [
    "### Variables"
   ]
  },
  {
   "cell_type": "code",
   "execution_count": 7,
   "metadata": {},
   "outputs": [],
   "source": [
    "#Specify the input filename\n",
    "TRAINFILE=r\"fake_news_train.csv\"\n",
    "TESTFILE=r\"fake_news_test.csv\"\n",
    "#Specify the ratio of the data to subset for prediction\n",
    "test_data_ratio = 0.05\n",
    "\n",
    "#By default, EXPOSE_AS_API is False. \n",
    "#If it is True then this kit will be exposed as a rest API, and it can be consumed through URL http://127.0.0.1:5000/predict\n",
    "EXPOSE_AS_API=False\n",
    "\n",
    "#By default, TRAIN_MODEL is False and it uses pretrained model(fakenewsmodel.pkl). \n",
    "#If TRAIN_MODEL is True then it uses the training data to build new model which will be used for the prediction.\n",
    "TRAIN_MODEL=False  "
   ]
  },
  {
   "cell_type": "markdown",
   "metadata": {},
   "source": [
    "### Import libraries to detect fake news"
   ]
  },
  {
   "cell_type": "code",
   "execution_count": 9,
   "metadata": {},
   "outputs": [
    {
     "name": "stdout",
     "output_type": "stream",
     "text": [
      "Defaulting to user installation because normal site-packages is not writeable\n",
      "Collecting flask-cors\n",
      "  Downloading Flask_Cors-3.0.10-py2.py3-none-any.whl (14 kB)\n",
      "Requirement already satisfied: Flask>=0.9 in c:\\programdata\\anaconda3\\lib\\site-packages (from flask-cors) (1.1.2)\n",
      "Requirement already satisfied: Six in c:\\programdata\\anaconda3\\lib\\site-packages (from flask-cors) (1.16.0)\n",
      "Requirement already satisfied: Jinja2>=2.10.1 in c:\\programdata\\anaconda3\\lib\\site-packages (from Flask>=0.9->flask-cors) (2.11.3)\n",
      "Requirement already satisfied: Werkzeug>=0.15 in c:\\programdata\\anaconda3\\lib\\site-packages (from Flask>=0.9->flask-cors) (2.0.3)\n",
      "Requirement already satisfied: click>=5.1 in c:\\programdata\\anaconda3\\lib\\site-packages (from Flask>=0.9->flask-cors) (8.0.4)\n",
      "Requirement already satisfied: itsdangerous>=0.24 in c:\\programdata\\anaconda3\\lib\\site-packages (from Flask>=0.9->flask-cors) (2.0.1)\n",
      "Requirement already satisfied: colorama in c:\\programdata\\anaconda3\\lib\\site-packages (from click>=5.1->Flask>=0.9->flask-cors) (0.4.4)\n",
      "Requirement already satisfied: MarkupSafe>=0.23 in c:\\programdata\\anaconda3\\lib\\site-packages (from Jinja2>=2.10.1->Flask>=0.9->flask-cors) (2.0.1)\n",
      "Installing collected packages: flask-cors\n",
      "Successfully installed flask-cors-3.0.10\n"
     ]
    }
   ],
   "source": [
    "!pip install -U flask-cors\n",
    "from detect import FakeNewsDetection\n",
    "from app import FakeNewsApiService\n"
   ]
  },
  {
   "cell_type": "markdown",
   "metadata": {},
   "source": [
    "### Training"
   ]
  },
  {
   "cell_type": "code",
   "execution_count": 10,
   "metadata": {},
   "outputs": [
    {
     "name": "stdout",
     "output_type": "stream",
     "text": [
      "First few lines from the training dataset\n",
      "                                           news_text label\n",
      "0  Get the latest from TODAY Sign up for our news...  fake\n",
      "1  2d  Conan On The Funeral Trump Will Be Invited...  fake\n",
      "2  It’s safe to say that Instagram Stories has fa...  real\n",
      "3  Much like a certain Amazon goddess with a lass...  real\n",
      "4  At a time when the perfect outfit is just one ...  real\n",
      "Training to test data ratio is  0.95  :  0.05\n"
     ]
    }
   ],
   "source": [
    "fakenews = FakeNewsDetection(TRAINFILE, test_data_ratio)"
   ]
  },
  {
   "cell_type": "code",
   "execution_count": 11,
   "metadata": {
    "scrolled": true
   },
   "outputs": [],
   "source": [
    "if TRAIN_MODEL:\n",
    "    fakenews.train_model()"
   ]
  },
  {
   "cell_type": "markdown",
   "metadata": {},
   "source": [
    "###  Prediction"
   ]
  },
  {
   "cell_type": "code",
   "execution_count": 12,
   "metadata": {},
   "outputs": [
    {
     "name": "stdout",
     "output_type": "stream",
     "text": [
      "Predicted result is available in  C:\\Users\\Vishnu Sai\\Downloads\\kit_installer_v1.1.0\\fakenews-detection-main\\fake_news_test_output.csv\n"
     ]
    }
   ],
   "source": [
    "fakenews.test_news(TESTFILE)"
   ]
  },
  {
   "cell_type": "markdown",
   "metadata": {},
   "source": [
    "# FakeNewsDetection API Service\n",
    "The following code exposes this solution as a rest API. This feature can be turn on by setting the variable EXPOSE_AS_API=True. Input and output details along with the endpoint URL details are given below."
   ]
  },
  {
   "cell_type": "markdown",
   "metadata": {},
   "source": [
    "#### Prediction API url\n",
    "POST http://127.0.0.1:5000/predict "
   ]
  },
  {
   "cell_type": "markdown",
   "metadata": {},
   "source": [
    "#### API input\n",
    "| Field | Description | Example |\n",
    "| :- | :- | :- |\n",
    "| news_text | News text from the article | \"BGMI not Banned In India; Here's What Google And Krafton Said\" |\n",
    "\n",
    "Example json \n",
    "```\n",
    "{ \n",
    "    \"news_text\": \"BGMI not Banned In India; Here's What Google And Krafton Said\"\n",
    "}\n",
    "```"
   ]
  },
  {
   "cell_type": "markdown",
   "metadata": {},
   "source": [
    "#### API output\n",
    "| Field | Description | Example |\n",
    "|:-- | :-- | :-- |\n",
    "| news_text | News text from the article | \"BGMI not Banned In India; Here's What Google And Krafton Said\" |\n",
    "|label | If the value is 'fake' it is Fake news.If the value is 'real' it is real news |\"real\"|\n",
    "|probability | Confidence level of prediction |\"0.79\"|\n",
    "\n",
    "Example json\n",
    "```\n",
    "{\n",
    "    \"label\": \"fake\",\n",
    "    \"news_text\": \"BGMI not Banned In India; Here's What Google And Krafton Said\",\n",
    "    \"probability\": 0.79\n",
    "}\n",
    "```"
   ]
  },
  {
   "cell_type": "code",
   "execution_count": 5,
   "metadata": {},
   "outputs": [
    {
     "name": "stdout",
     "output_type": "stream",
     "text": [
      " * Serving Flask app \"app\" (lazy loading)\n",
      " * Environment: production\n",
      "   WARNING: This is a development server. Do not use it in a production deployment.\n",
      "   Use a production WSGI server instead.\n",
      " * Debug mode: on\n"
     ]
    },
    {
     "name": "stderr",
     "output_type": "stream",
     "text": [
      " * Running on http://127.0.0.1:5000/ (Press CTRL+C to quit)\n",
      "127.0.0.1 - - [05/Aug/2022 12:13:49] \"\u001b[37mPOST /predict HTTP/1.1\u001b[0m\" 200 -\n"
     ]
    }
   ],
   "source": [
    "if EXPOSE_AS_API:\n",
    "    api=FakeNewsApiService()\n",
    "    api.start()"
   ]
  },
  {
   "cell_type": "markdown",
   "metadata": {},
   "source": [
    "This is a starter notebook for FakeNewsDetection using 'LogisticRegressionCV' model. More detailed code can be found in the **'FakeNewsDetection-analysis.ipynb'** notebook in the current directory."
   ]
  },
  {
   "cell_type": "code",
   "execution_count": null,
   "metadata": {},
   "outputs": [],
   "source": []
  }
 ],
 "metadata": {
  "kernelspec": {
   "display_name": "Python 3 (ipykernel)",
   "language": "python",
   "name": "python3"
  },
  "language_info": {
   "codemirror_mode": {
    "name": "ipython",
    "version": 3
   },
   "file_extension": ".py",
   "mimetype": "text/x-python",
   "name": "python",
   "nbconvert_exporter": "python",
   "pygments_lexer": "ipython3",
   "version": "3.9.12"
  }
 },
 "nbformat": 4,
 "nbformat_minor": 4
}
