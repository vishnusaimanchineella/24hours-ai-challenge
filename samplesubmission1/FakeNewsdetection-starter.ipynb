{
 "cells": [
  {
   "cell_type": "markdown",
   "metadata": {},
   "source": [
    "# FakeNewsDetection  Sample Submission1"
   ]
  },
  {
   "cell_type": "markdown",
   "metadata": {},
   "source": [
    "Adding New Data and performing evaluation\n"
   ]
  },
  {
   "cell_type": "markdown",
   "metadata": {},
   "source": []
  },
  {
   "cell_type": "markdown",
   "metadata": {},
   "source": [
    "### Variables"
   ]
  },
  {
   "cell_type": "code",
   "execution_count": 24,
   "metadata": {},
   "outputs": [],
   "source": [
    "#Specify the input filename\n",
    "TRAINFILE=r\"fake_news_train.csv\"\n",
    "TESTFILE=r\"fake_news_test.csv\"\n",
    "#Specify the ratio of the data to subset for prediction\n",
    "test_data_ratio = 0.05\n",
    "\n",
    "\n",
    "#By default, TRAIN_MODEL is False and it uses pretrained model(fakenewsmodel.pkl). \n",
    "#If TRAIN_MODEL is True then it uses the training data to build new model which will be used for the prediction.\n",
    "TRAIN_MODEL=False"
   ]
  },
  {
   "cell_type": "markdown",
   "metadata": {},
   "source": [
    "### Import libraries to detect fake news"
   ]
  },
  {
   "cell_type": "code",
   "execution_count": 25,
   "metadata": {},
   "outputs": [],
   "source": [
    "\n",
    "from detect import FakeNewsDetection\n",
    "from app import FakeNewsApiService\n"
   ]
  },
  {
   "cell_type": "markdown",
   "metadata": {},
   "source": [
    "### Training"
   ]
  },
  {
   "cell_type": "code",
   "execution_count": 26,
   "metadata": {},
   "outputs": [
    {
     "name": "stdout",
     "output_type": "stream",
     "text": [
      "First few lines from the training dataset\n",
      "                                           news_text label\n",
      "0  Get the latest from TODAY Sign up for our news...  fake\n",
      "1  2d  Conan On The Funeral Trump Will Be Invited...  fake\n",
      "2  It’s safe to say that Instagram Stories has fa...  real\n",
      "3  Much like a certain Amazon goddess with a lass...  real\n",
      "4  At a time when the perfect outfit is just one ...  real\n",
      "Training to test data ratio is  0.95  :  0.05\n"
     ]
    }
   ],
   "source": [
    "fakenews = FakeNewsDetection(TRAINFILE, test_data_ratio)"
   ]
  },
  {
   "cell_type": "code",
   "execution_count": 27,
   "metadata": {
    "scrolled": true
   },
   "outputs": [],
   "source": [
    "if TRAIN_MODEL:\n",
    "    fakenews.train_model()"
   ]
  },
  {
   "cell_type": "markdown",
   "metadata": {},
   "source": [
    "###  Prediction"
   ]
  },
  {
   "cell_type": "code",
   "execution_count": 28,
   "metadata": {},
   "outputs": [
    {
     "name": "stdout",
     "output_type": "stream",
     "text": [
      "Predicted result is available in  C:\\Users\\Vishnu Sai\\Desktop\\24hours-ai-challenge\\samplesubmission1\\fake_news_test_output.csv\n"
     ]
    }
   ],
   "source": [
    "fakenews.test_news(TESTFILE)"
   ]
  },
  {
   "cell_type": "markdown",
   "metadata": {},
   "source": []
  },
  {
   "cell_type": "markdown",
   "metadata": {},
   "source": []
  },
  {
   "cell_type": "markdown",
   "metadata": {},
   "source": []
  },
  {
   "cell_type": "markdown",
   "metadata": {},
   "source": []
  },
  {
   "cell_type": "code",
   "execution_count": null,
   "metadata": {},
   "outputs": [],
   "source": []
  },
  {
   "cell_type": "markdown",
   "metadata": {},
   "source": []
  },
  {
   "cell_type": "code",
   "execution_count": null,
   "metadata": {},
   "outputs": [],
   "source": []
  }
 ],
 "metadata": {
  "kernelspec": {
   "display_name": "Python 3 (ipykernel)",
   "language": "python",
   "name": "python3"
  },
  "language_info": {
   "codemirror_mode": {
    "name": "ipython",
    "version": 3
   },
   "file_extension": ".py",
   "mimetype": "text/x-python",
   "name": "python",
   "nbconvert_exporter": "python",
   "pygments_lexer": "ipython3",
   "version": "3.10.4"
  }
 },
 "nbformat": 4,
 "nbformat_minor": 4
}
