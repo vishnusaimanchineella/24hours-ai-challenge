{
 "cells": [
  {
   "cell_type": "code",
   "execution_count": 17,
   "metadata": {},
   "outputs": [],
   "source": [
    "#Specify the input filename\n",
    "TRAINFILE=r\"fake_news_train.csv\"\n",
    "TESTFILE=r\"fake_news_test.csv\"\n",
    "#Specify the ratio of the data to subset for prediction\n",
    "test_data_ratio = 0.05\n",
    "\n",
    "\n",
    "#By default, TRAIN_MODEL is False and it uses pretrained model(fakenewsmodel.pkl). \n",
    "#If TRAIN_MODEL is True then it uses the training data to build new model which will be used for the prediction.\n",
    "TRAIN_MODEL=True"
   ]
  },
  {
   "cell_type": "markdown",
   "metadata": {},
   "source": [
    "### Import libraries to detect fake news"
   ]
  },
  {
   "cell_type": "code",
   "execution_count": 18,
   "metadata": {},
   "outputs": [],
   "source": [
    "from detect import FakeNewsDetection\n",
    "from app import FakeNewsApiService\n"
   ]
  },
  {
   "cell_type": "markdown",
   "metadata": {},
   "source": [
    "### Training"
   ]
  },
  {
   "cell_type": "code",
   "execution_count": 19,
   "metadata": {},
   "outputs": [
    {
     "name": "stdout",
     "output_type": "stream",
     "text": [
      "First few lines from the training dataset\n",
      "                                           news_text label\n",
      "0  The tax-exempt Muslim group CAIR has ties to t...  fake\n",
      "1  This cartoon is one of our all-time favorites....  fake\n",
      "2  This Utah protest was planned and organized by...  fake\n",
      "3  Shades of Baltimore? How can citizens or visit...  fake\n",
      "4  This video should be viewed by every middle sc...  fake\n",
      "Training to test data ratio is  0.95  :  0.05\n"
     ]
    }
   ],
   "source": [
    "fakenews = FakeNewsDetection(TRAINFILE, test_data_ratio)"
   ]
  },
  {
   "cell_type": "code",
   "execution_count": 20,
   "metadata": {
    "scrolled": true
   },
   "outputs": [
    {
     "name": "stdout",
     "output_type": "stream",
     "text": [
      "---Preprocessing data---\n",
      "Actual dataframe shape (row X column)  (4717, 2)\n",
      "Dataframe shape after removing duplicates  (3872, 2)\n",
      "Dataframe shape after removal of empty row  (3861, 2)\n",
      "Dataframe shape after preprocessing(eg. special character and stop words removal, stemming, etc.,) is:  (3861, 38439)\n",
      "Splitting data into train and test set completed\n",
      "Training the model (LogisticRegressionCV) on train set started...\n",
      "Model training completed!\n",
      "Classification Metrics for the train set is:\n",
      "\n",
      "              precision    recall  f1-score   support\n",
      "\n",
      "        real       1.00      1.00      1.00      1918\n",
      "        fake       1.00      1.00      1.00      1749\n",
      "\n",
      "    accuracy                           1.00      3667\n",
      "   macro avg       1.00      1.00      1.00      3667\n",
      "weighted avg       1.00      1.00      1.00      3667\n",
      "\n"
     ]
    },
    {
     "data": {
      "image/png": "[encoded data removed]",
      "text/plain": [
       "<Figure size 432x288 with 2 Axes>"
      ]
     },
     "metadata": {
      "needs_background": "light"
     },
     "output_type": "display_data"
    },
    {
     "name": "stdout",
     "output_type": "stream",
     "text": [
      "Testing the model on the test set\n",
      "Classification Metrics for the test set is:\n",
      "\n",
      "              precision    recall  f1-score   support\n",
      "\n",
      "        real       1.00      1.00      1.00       101\n",
      "        fake       1.00      1.00      1.00        93\n",
      "\n",
      "    accuracy                           1.00       194\n",
      "   macro avg       1.00      1.00      1.00       194\n",
      "weighted avg       1.00      1.00      1.00       194\n",
      "\n"
     ]
    },
    {
     "data": {
      "image/png": "[encoded data removed]",
      "text/plain": [
       "<Figure size 432x288 with 2 Axes>"
      ]
     },
     "metadata": {
      "needs_background": "light"
     },
     "output_type": "display_data"
    },
    {
     "name": "stdout",
     "output_type": "stream",
     "text": [
      "(3667, 38439)\n",
      "(194, 38439)\n",
      "(3667,)\n",
      "(194,)\n"
     ]
    }
   ],
   "source": [
    "if TRAIN_MODEL:\n",
    "    fakenews.train_model()"
   ]
  },
  {
   "cell_type": "markdown",
   "metadata": {},
   "source": [
    "###  Prediction"
   ]
  },
  {
   "cell_type": "code",
   "execution_count": 21,
   "metadata": {},
   "outputs": [
    {
     "name": "stdout",
     "output_type": "stream",
     "text": [
      "Predicted result is available in  C:\\Users\\Vishnu Sai\\Desktop\\24hours-ai-challenge\\samplesubmission2\\fake_news_test_output.csv\n"
     ]
    }
   ],
   "source": [
    "fakenews.test_news(TESTFILE)"
   ]
  },
  {
   "cell_type": "markdown",
   "metadata": {},
   "source": [
    "#### API input\n",
    "| Field | Description | Example |\n",
    "| :- | :- | :- |\n",
    "| news_text | News text from the article | \"BGMI not Banned In India; Here's What Google And Krafton Said\" |\n",
    "\n",
    "Example json \n",
    "```\n",
    "{ \n",
    "    \"news_text\": \"BGMI not Banned In India; Here's What Google And Krafton Said\"\n",
    "}\n",
    "```"
   ]
  },
  {
   "cell_type": "markdown",
   "metadata": {},
   "source": [
    "#### API output\n",
    "| Field | Description | Example |\n",
    "|:-- | :-- | :-- |\n",
    "| news_text | News text from the article | \"BGMI not Banned In India; Here's What Google And Krafton Said\" |\n",
    "|label | If the value is 'fake' it is Fake news.If the value is 'real' it is real news |\"real\"|\n",
    "|probability | Confidence level of prediction |\"0.79\"|\n",
    "\n",
    "Example json\n",
    "```\n",
    "{\n",
    "    \"label\": \"fake\",\n",
    "    \"news_text\": \"BGMI not Banned In India; Here's What Google And Krafton Said\",\n",
    "    \"probability\": 0.79\n",
    "}\n",
    "```"
   ]
  },
  {
   "cell_type": "code",
   "execution_count": 5,
   "metadata": {},
   "outputs": [
    {
     "name": "stdout",
     "output_type": "stream",
     "text": [
      " * Serving Flask app \"app\" (lazy loading)\n",
      " * Environment: production\n",
      "   WARNING: This is a development server. Do not use it in a production deployment.\n",
      "   Use a production WSGI server instead.\n",
      " * Debug mode: on\n"
     ]
    },
    {
     "name": "stderr",
     "output_type": "stream",
     "text": [
      " * Running on http://127.0.0.1:5000/ (Press CTRL+C to quit)\n",
      "127.0.0.1 - - [05/Aug/2022 12:13:49] \"\u001b[37mPOST /predict HTTP/1.1\u001b[0m\" 200 -\n"
     ]
    }
   ],
   "source": [
    "if EXPOSE_AS_API:\n",
    "    api=FakeNewsApiService()\n",
    "    api.start()"
   ]
  },
  {
   "cell_type": "markdown",
   "metadata": {},
   "source": [
    "This is a starter notebook for FakeNewsDetection using 'LogisticRegressionCV' model. More detailed code can be found in the **'FakeNewsDetection-analysis.ipynb'** notebook in the current directory."
   ]
  },
  {
   "cell_type": "code",
   "execution_count": null,
   "metadata": {},
   "outputs": [],
   "source": []
  }
 ],
 "metadata": {
  "kernelspec": {
   "display_name": "Python 3 (ipykernel)",
   "language": "python",
   "name": "python3"
  },
  "language_info": {
   "codemirror_mode": {
    "name": "ipython",
    "version": 3
   },
   "file_extension": ".py",
   "mimetype": "text/x-python",
   "name": "python",
   "nbconvert_exporter": "python",
   "pygments_lexer": "ipython3",
   "version": "3.10.4"
  }
 },
 "nbformat": 4,
 "nbformat_minor": 4
}
